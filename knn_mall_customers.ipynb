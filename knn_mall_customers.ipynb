{
  "nbformat": 4,
  "nbformat_minor": 0,
  "metadata": {
    "colab": {
      "provenance": [],
      "authorship_tag": "ABX9TyNaQvqOMp46U69opBw+RccF",
      "include_colab_link": true
    },
    "kernelspec": {
      "name": "python3",
      "display_name": "Python 3"
    },
    "language_info": {
      "name": "python"
    }
  },
  "cells": [
    {
      "cell_type": "markdown",
      "metadata": {
        "id": "view-in-github",
        "colab_type": "text"
      },
      "source": [
        "<a href=\"https://colab.research.google.com/github/Chandrakanth9394/DATA-SCIENCE-LAB/blob/main/knn_mall_customers.ipynb\" target=\"_parent\"><img src=\"https://colab.research.google.com/assets/colab-badge.svg\" alt=\"Open In Colab\"/></a>"
      ]
    },
    {
      "cell_type": "code",
      "execution_count": 12,
      "metadata": {
        "id": "LFOw9HgCs4tf"
      },
      "outputs": [],
      "source": [
        "import pandas as pd\n",
        "import numpy as np\n",
        "import matplotlib.pyplot as plt\n",
        "import seaborn as sns\n"
      ]
    },
    {
      "cell_type": "code",
      "source": [
        "dataset=pd.read_csv('/content/Mall_Customers.csv')\n"
      ],
      "metadata": {
        "id": "lNnYDjZxt7N1"
      },
      "execution_count": 13,
      "outputs": []
    },
    {
      "cell_type": "code",
      "source": [
        "\n",
        "dataset"
      ],
      "metadata": {
        "colab": {
          "base_uri": "https://localhost:8080/",
          "height": 424
        },
        "id": "yvpTHVHMuEzS",
        "outputId": "bf15156b-a5c8-4f0d-c586-37bc87bf02cc"
      },
      "execution_count": 14,
      "outputs": [
        {
          "output_type": "execute_result",
          "data": {
            "text/plain": [
              "     CustomerID  Gender  Age  Annual Income (k$)  Spending Score (1-100)\n",
              "0             1    Male   19                  15                      39\n",
              "1             2    Male   21                  15                      81\n",
              "2             3  Female   20                  16                       6\n",
              "3             4  Female   23                  16                      77\n",
              "4             5  Female   31                  17                      40\n",
              "..          ...     ...  ...                 ...                     ...\n",
              "195         196  Female   35                 120                      79\n",
              "196         197  Female   45                 126                      28\n",
              "197         198    Male   32                 126                      74\n",
              "198         199    Male   32                 137                      18\n",
              "199         200    Male   30                 137                      83\n",
              "\n",
              "[200 rows x 5 columns]"
            ],
            "text/html": [
              "\n",
              "  <div id=\"df-c0c884c8-1816-4f67-8d27-f9c63e3b37e2\">\n",
              "    <div class=\"colab-df-container\">\n",
              "      <div>\n",
              "<style scoped>\n",
              "    .dataframe tbody tr th:only-of-type {\n",
              "        vertical-align: middle;\n",
              "    }\n",
              "\n",
              "    .dataframe tbody tr th {\n",
              "        vertical-align: top;\n",
              "    }\n",
              "\n",
              "    .dataframe thead th {\n",
              "        text-align: right;\n",
              "    }\n",
              "</style>\n",
              "<table border=\"1\" class=\"dataframe\">\n",
              "  <thead>\n",
              "    <tr style=\"text-align: right;\">\n",
              "      <th></th>\n",
              "      <th>CustomerID</th>\n",
              "      <th>Gender</th>\n",
              "      <th>Age</th>\n",
              "      <th>Annual Income (k$)</th>\n",
              "      <th>Spending Score (1-100)</th>\n",
              "    </tr>\n",
              "  </thead>\n",
              "  <tbody>\n",
              "    <tr>\n",
              "      <th>0</th>\n",
              "      <td>1</td>\n",
              "      <td>Male</td>\n",
              "      <td>19</td>\n",
              "      <td>15</td>\n",
              "      <td>39</td>\n",
              "    </tr>\n",
              "    <tr>\n",
              "      <th>1</th>\n",
              "      <td>2</td>\n",
              "      <td>Male</td>\n",
              "      <td>21</td>\n",
              "      <td>15</td>\n",
              "      <td>81</td>\n",
              "    </tr>\n",
              "    <tr>\n",
              "      <th>2</th>\n",
              "      <td>3</td>\n",
              "      <td>Female</td>\n",
              "      <td>20</td>\n",
              "      <td>16</td>\n",
              "      <td>6</td>\n",
              "    </tr>\n",
              "    <tr>\n",
              "      <th>3</th>\n",
              "      <td>4</td>\n",
              "      <td>Female</td>\n",
              "      <td>23</td>\n",
              "      <td>16</td>\n",
              "      <td>77</td>\n",
              "    </tr>\n",
              "    <tr>\n",
              "      <th>4</th>\n",
              "      <td>5</td>\n",
              "      <td>Female</td>\n",
              "      <td>31</td>\n",
              "      <td>17</td>\n",
              "      <td>40</td>\n",
              "    </tr>\n",
              "    <tr>\n",
              "      <th>...</th>\n",
              "      <td>...</td>\n",
              "      <td>...</td>\n",
              "      <td>...</td>\n",
              "      <td>...</td>\n",
              "      <td>...</td>\n",
              "    </tr>\n",
              "    <tr>\n",
              "      <th>195</th>\n",
              "      <td>196</td>\n",
              "      <td>Female</td>\n",
              "      <td>35</td>\n",
              "      <td>120</td>\n",
              "      <td>79</td>\n",
              "    </tr>\n",
              "    <tr>\n",
              "      <th>196</th>\n",
              "      <td>197</td>\n",
              "      <td>Female</td>\n",
              "      <td>45</td>\n",
              "      <td>126</td>\n",
              "      <td>28</td>\n",
              "    </tr>\n",
              "    <tr>\n",
              "      <th>197</th>\n",
              "      <td>198</td>\n",
              "      <td>Male</td>\n",
              "      <td>32</td>\n",
              "      <td>126</td>\n",
              "      <td>74</td>\n",
              "    </tr>\n",
              "    <tr>\n",
              "      <th>198</th>\n",
              "      <td>199</td>\n",
              "      <td>Male</td>\n",
              "      <td>32</td>\n",
              "      <td>137</td>\n",
              "      <td>18</td>\n",
              "    </tr>\n",
              "    <tr>\n",
              "      <th>199</th>\n",
              "      <td>200</td>\n",
              "      <td>Male</td>\n",
              "      <td>30</td>\n",
              "      <td>137</td>\n",
              "      <td>83</td>\n",
              "    </tr>\n",
              "  </tbody>\n",
              "</table>\n",
              "<p>200 rows × 5 columns</p>\n",
              "</div>\n",
              "      <button class=\"colab-df-convert\" onclick=\"convertToInteractive('df-c0c884c8-1816-4f67-8d27-f9c63e3b37e2')\"\n",
              "              title=\"Convert this dataframe to an interactive table.\"\n",
              "              style=\"display:none;\">\n",
              "        \n",
              "  <svg xmlns=\"http://www.w3.org/2000/svg\" height=\"24px\"viewBox=\"0 0 24 24\"\n",
              "       width=\"24px\">\n",
              "    <path d=\"M0 0h24v24H0V0z\" fill=\"none\"/>\n",
              "    <path d=\"M18.56 5.44l.94 2.06.94-2.06 2.06-.94-2.06-.94-.94-2.06-.94 2.06-2.06.94zm-11 1L8.5 8.5l.94-2.06 2.06-.94-2.06-.94L8.5 2.5l-.94 2.06-2.06.94zm10 10l.94 2.06.94-2.06 2.06-.94-2.06-.94-.94-2.06-.94 2.06-2.06.94z\"/><path d=\"M17.41 7.96l-1.37-1.37c-.4-.4-.92-.59-1.43-.59-.52 0-1.04.2-1.43.59L10.3 9.45l-7.72 7.72c-.78.78-.78 2.05 0 2.83L4 21.41c.39.39.9.59 1.41.59.51 0 1.02-.2 1.41-.59l7.78-7.78 2.81-2.81c.8-.78.8-2.07 0-2.86zM5.41 20L4 18.59l7.72-7.72 1.47 1.35L5.41 20z\"/>\n",
              "  </svg>\n",
              "      </button>\n",
              "      \n",
              "  <style>\n",
              "    .colab-df-container {\n",
              "      display:flex;\n",
              "      flex-wrap:wrap;\n",
              "      gap: 12px;\n",
              "    }\n",
              "\n",
              "    .colab-df-convert {\n",
              "      background-color: #E8F0FE;\n",
              "      border: none;\n",
              "      border-radius: 50%;\n",
              "      cursor: pointer;\n",
              "      display: none;\n",
              "      fill: #1967D2;\n",
              "      height: 32px;\n",
              "      padding: 0 0 0 0;\n",
              "      width: 32px;\n",
              "    }\n",
              "\n",
              "    .colab-df-convert:hover {\n",
              "      background-color: #E2EBFA;\n",
              "      box-shadow: 0px 1px 2px rgba(60, 64, 67, 0.3), 0px 1px 3px 1px rgba(60, 64, 67, 0.15);\n",
              "      fill: #174EA6;\n",
              "    }\n",
              "\n",
              "    [theme=dark] .colab-df-convert {\n",
              "      background-color: #3B4455;\n",
              "      fill: #D2E3FC;\n",
              "    }\n",
              "\n",
              "    [theme=dark] .colab-df-convert:hover {\n",
              "      background-color: #434B5C;\n",
              "      box-shadow: 0px 1px 3px 1px rgba(0, 0, 0, 0.15);\n",
              "      filter: drop-shadow(0px 1px 2px rgba(0, 0, 0, 0.3));\n",
              "      fill: #FFFFFF;\n",
              "    }\n",
              "  </style>\n",
              "\n",
              "      <script>\n",
              "        const buttonEl =\n",
              "          document.querySelector('#df-c0c884c8-1816-4f67-8d27-f9c63e3b37e2 button.colab-df-convert');\n",
              "        buttonEl.style.display =\n",
              "          google.colab.kernel.accessAllowed ? 'block' : 'none';\n",
              "\n",
              "        async function convertToInteractive(key) {\n",
              "          const element = document.querySelector('#df-c0c884c8-1816-4f67-8d27-f9c63e3b37e2');\n",
              "          const dataTable =\n",
              "            await google.colab.kernel.invokeFunction('convertToInteractive',\n",
              "                                                     [key], {});\n",
              "          if (!dataTable) return;\n",
              "\n",
              "          const docLinkHtml = 'Like what you see? Visit the ' +\n",
              "            '<a target=\"_blank\" href=https://colab.research.google.com/notebooks/data_table.ipynb>data table notebook</a>'\n",
              "            + ' to learn more about interactive tables.';\n",
              "          element.innerHTML = '';\n",
              "          dataTable['output_type'] = 'display_data';\n",
              "          await google.colab.output.renderOutput(dataTable, element);\n",
              "          const docLink = document.createElement('div');\n",
              "          docLink.innerHTML = docLinkHtml;\n",
              "          element.appendChild(docLink);\n",
              "        }\n",
              "      </script>\n",
              "    </div>\n",
              "  </div>\n",
              "  "
            ]
          },
          "metadata": {},
          "execution_count": 14
        }
      ]
    },
    {
      "cell_type": "code",
      "source": [
        "from sklearn.preprocessing import StandardScaler"
      ],
      "metadata": {
        "id": "z5_WEuI-uiJK"
      },
      "execution_count": 15,
      "outputs": []
    },
    {
      "cell_type": "code",
      "source": [
        "scaler=StandardScaler()"
      ],
      "metadata": {
        "id": "P2SbbliPujai"
      },
      "execution_count": 16,
      "outputs": []
    },
    {
      "cell_type": "code",
      "source": [
        "scaler.fit(dataset.drop('Gender',axis=1))"
      ],
      "metadata": {
        "colab": {
          "base_uri": "https://localhost:8080/"
        },
        "id": "4wxoIt99umoa",
        "outputId": "d31dc5bc-abf6-4e88-9964-fb2410880553"
      },
      "execution_count": 20,
      "outputs": [
        {
          "output_type": "execute_result",
          "data": {
            "text/plain": [
              "StandardScaler()"
            ]
          },
          "metadata": {},
          "execution_count": 20
        }
      ]
    },
    {
      "cell_type": "code",
      "source": [
        "dataset.columns[:-1]"
      ],
      "metadata": {
        "colab": {
          "base_uri": "https://localhost:8080/"
        },
        "id": "uONt0WVi5o09",
        "outputId": "fb0465fc-9b3c-4664-88e8-70f7d6c4ae76"
      },
      "execution_count": 21,
      "outputs": [
        {
          "output_type": "execute_result",
          "data": {
            "text/plain": [
              "Index(['CustomerID', 'Gender', 'Age', 'Annual Income (k$)'], dtype='object')"
            ]
          },
          "metadata": {},
          "execution_count": 21
        }
      ]
    },
    {
      "cell_type": "code",
      "source": [
        "scaled_features=scaler.transform(dataset.drop('Gender',axis=1))"
      ],
      "metadata": {
        "id": "SlKIP83UuoVK"
      },
      "execution_count": 24,
      "outputs": []
    },
    {
      "cell_type": "code",
      "source": [
        "scaled_features"
      ],
      "metadata": {
        "colab": {
          "base_uri": "https://localhost:8080/"
        },
        "id": "W-QqZxyK8S8R",
        "outputId": "e5220fe0-b066-4d39-cd3b-0e0dfc69ca5c"
      },
      "execution_count": 26,
      "outputs": [
        {
          "output_type": "execute_result",
          "data": {
            "text/plain": [
              "array([[-1.7234121 , -1.42456879, -1.73899919, -0.43480148],\n",
              "       [-1.70609137, -1.28103541, -1.73899919,  1.19570407],\n",
              "       [-1.68877065, -1.3528021 , -1.70082976, -1.71591298],\n",
              "       [-1.67144992, -1.13750203, -1.70082976,  1.04041783],\n",
              "       [-1.6541292 , -0.56336851, -1.66266033, -0.39597992],\n",
              "       [-1.63680847, -1.20926872, -1.66266033,  1.00159627],\n",
              "       [-1.61948775, -0.27630176, -1.62449091, -1.71591298],\n",
              "       [-1.60216702, -1.13750203, -1.62449091,  1.70038436],\n",
              "       [-1.5848463 ,  1.80493225, -1.58632148, -1.83237767],\n",
              "       [-1.56752558, -0.6351352 , -1.58632148,  0.84631002],\n",
              "       [-1.55020485,  2.02023231, -1.58632148, -1.4053405 ],\n",
              "       [-1.53288413, -0.27630176, -1.58632148,  1.89449216],\n",
              "       [-1.5155634 ,  1.37433211, -1.54815205, -1.36651894],\n",
              "       [-1.49824268, -1.06573534, -1.54815205,  1.04041783],\n",
              "       [-1.48092195, -0.13276838, -1.54815205, -1.44416206],\n",
              "       [-1.46360123, -1.20926872, -1.54815205,  1.11806095],\n",
              "       [-1.4462805 , -0.27630176, -1.50998262, -0.59008772],\n",
              "       [-1.42895978, -1.3528021 , -1.50998262,  0.61338066],\n",
              "       [-1.41163905,  0.94373197, -1.43364376, -0.82301709],\n",
              "       [-1.39431833, -0.27630176, -1.43364376,  1.8556706 ],\n",
              "       [-1.3769976 , -0.27630176, -1.39547433, -0.59008772],\n",
              "       [-1.35967688, -0.99396865, -1.39547433,  0.88513158],\n",
              "       [-1.34235616,  0.51313183, -1.3573049 , -1.75473454],\n",
              "       [-1.32503543, -0.56336851, -1.3573049 ,  0.88513158],\n",
              "       [-1.30771471,  1.08726535, -1.24279661, -1.4053405 ],\n",
              "       [-1.29039398, -0.70690189, -1.24279661,  1.23452563],\n",
              "       [-1.27307326,  0.44136514, -1.24279661, -0.7065524 ],\n",
              "       [-1.25575253, -0.27630176, -1.24279661,  0.41927286],\n",
              "       [-1.23843181,  0.08253169, -1.20462718, -0.74537397],\n",
              "       [-1.22111108, -1.13750203, -1.20462718,  1.42863343],\n",
              "       [-1.20379036,  1.51786549, -1.16645776, -1.7935561 ],\n",
              "       [-1.18646963, -1.28103541, -1.16645776,  0.88513158],\n",
              "       [-1.16914891,  1.01549866, -1.05194947, -1.7935561 ],\n",
              "       [-1.15182818, -1.49633548, -1.05194947,  1.62274124],\n",
              "       [-1.13450746,  0.7284319 , -1.05194947, -1.4053405 ],\n",
              "       [-1.11718674, -1.28103541, -1.05194947,  1.19570407],\n",
              "       [-1.09986601,  0.22606507, -1.01378004, -1.28887582],\n",
              "       [-1.08254529, -0.6351352 , -1.01378004,  0.88513158],\n",
              "       [-1.06522456, -0.20453507, -0.89927175, -0.93948177],\n",
              "       [-1.04790384, -1.3528021 , -0.89927175,  0.96277471],\n",
              "       [-1.03058311,  1.87669894, -0.86110232, -0.59008772],\n",
              "       [-1.01326239, -1.06573534, -0.86110232,  1.62274124],\n",
              "       [-0.99594166,  0.65666521, -0.82293289, -0.55126616],\n",
              "       [-0.97862094, -0.56336851, -0.82293289,  0.41927286],\n",
              "       [-0.96130021,  0.7284319 , -0.82293289, -0.86183865],\n",
              "       [-0.94397949, -1.06573534, -0.82293289,  0.5745591 ],\n",
              "       [-0.92665877,  0.80019859, -0.78476346,  0.18634349],\n",
              "       [-0.90933804, -0.85043527, -0.78476346, -0.12422899],\n",
              "       [-0.89201732, -0.70690189, -0.78476346, -0.3183368 ],\n",
              "       [-0.87469659, -0.56336851, -0.78476346, -0.3183368 ],\n",
              "       [-0.85737587,  0.7284319 , -0.70842461,  0.06987881],\n",
              "       [-0.84005514, -0.41983513, -0.70842461,  0.38045129],\n",
              "       [-0.82273442, -0.56336851, -0.67025518,  0.14752193],\n",
              "       [-0.80541369,  1.4460988 , -0.67025518,  0.38045129],\n",
              "       [-0.78809297,  0.80019859, -0.67025518, -0.20187212],\n",
              "       [-0.77077224,  0.58489852, -0.67025518, -0.35715836],\n",
              "       [-0.75345152,  0.87196528, -0.63208575, -0.00776431],\n",
              "       [-0.73613079,  2.16376569, -0.63208575, -0.16305055],\n",
              "       [-0.71881007, -0.85043527, -0.55574689,  0.03105725],\n",
              "       [-0.70148935,  1.01549866, -0.55574689, -0.16305055],\n",
              "       [-0.68416862,  2.23553238, -0.55574689,  0.22516505],\n",
              "       [-0.6668479 , -1.42456879, -0.55574689,  0.18634349],\n",
              "       [-0.64952717,  2.02023231, -0.51757746,  0.06987881],\n",
              "       [-0.63220645,  1.08726535, -0.51757746,  0.34162973],\n",
              "       [-0.61488572,  1.73316556, -0.47940803,  0.03105725],\n",
              "       [-0.597565  , -1.49633548, -0.47940803,  0.34162973],\n",
              "       [-0.58024427,  0.29783176, -0.47940803, -0.00776431],\n",
              "       [-0.56292355,  2.091999  , -0.47940803, -0.08540743],\n",
              "       [-0.54560282, -1.42456879, -0.47940803,  0.34162973],\n",
              "       [-0.5282821 , -0.49160182, -0.47940803, -0.12422899],\n",
              "       [-0.51096138,  2.23553238, -0.4412386 ,  0.18634349],\n",
              "       [-0.49364065,  0.58489852, -0.4412386 , -0.3183368 ],\n",
              "       [-0.47631993,  1.51786549, -0.40306917, -0.04658587],\n",
              "       [-0.4589992 ,  1.51786549, -0.40306917,  0.22516505],\n",
              "       [-0.44167848,  1.4460988 , -0.25039146, -0.12422899],\n",
              "       [-0.42435775, -0.92220196, -0.25039146,  0.14752193],\n",
              "       [-0.40703703,  0.44136514, -0.25039146,  0.10870037],\n",
              "       [-0.3897163 ,  0.08253169, -0.25039146, -0.08540743],\n",
              "       [-0.37239558, -1.13750203, -0.25039146,  0.06987881],\n",
              "       [-0.35507485,  0.7284319 , -0.25039146, -0.3183368 ],\n",
              "       [-0.33775413,  1.30256542, -0.25039146,  0.03105725],\n",
              "       [-0.3204334 , -0.06100169, -0.25039146,  0.18634349],\n",
              "       [-0.30311268,  2.02023231, -0.25039146, -0.35715836],\n",
              "       [-0.28579196,  0.51313183, -0.25039146, -0.24069368],\n",
              "       [-0.26847123, -1.28103541, -0.25039146,  0.26398661],\n",
              "       [-0.25115051,  0.65666521, -0.25039146, -0.16305055],\n",
              "       [-0.23382978,  1.15903204, -0.13588317,  0.30280817],\n",
              "       [-0.21650906, -1.20926872, -0.13588317,  0.18634349],\n",
              "       [-0.19918833, -0.34806844, -0.09771374,  0.38045129],\n",
              "       [-0.18186761,  0.80019859, -0.09771374, -0.16305055],\n",
              "       [-0.16454688,  2.091999  , -0.05954431,  0.18634349],\n",
              "       [-0.14722616, -1.49633548, -0.05954431, -0.35715836],\n",
              "       [-0.12990543,  0.65666521, -0.02137488, -0.04658587],\n",
              "       [-0.11258471,  0.08253169, -0.02137488, -0.39597992],\n",
              "       [-0.09526399, -0.49160182, -0.02137488, -0.3183368 ],\n",
              "       [-0.07794326, -1.06573534, -0.02137488,  0.06987881],\n",
              "       [-0.06062254,  0.58489852, -0.02137488, -0.12422899],\n",
              "       [-0.04330181, -0.85043527, -0.02137488, -0.00776431],\n",
              "       [-0.02598109,  0.65666521,  0.01679455, -0.3183368 ],\n",
              "       [-0.00866036, -1.3528021 ,  0.01679455, -0.04658587],\n",
              "       [ 0.00866036, -1.13750203,  0.05496398, -0.35715836],\n",
              "       [ 0.02598109,  0.7284319 ,  0.05496398, -0.08540743],\n",
              "       [ 0.04330181,  2.02023231,  0.05496398,  0.34162973],\n",
              "       [ 0.06062254, -0.92220196,  0.05496398,  0.18634349],\n",
              "       [ 0.07794326,  0.7284319 ,  0.05496398,  0.22516505],\n",
              "       [ 0.09526399, -1.28103541,  0.05496398, -0.3183368 ],\n",
              "       [ 0.11258471,  1.94846562,  0.09313341, -0.00776431],\n",
              "       [ 0.12990543,  1.08726535,  0.09313341, -0.16305055],\n",
              "       [ 0.14722616,  2.091999  ,  0.09313341, -0.27951524],\n",
              "       [ 0.16454688,  1.94846562,  0.09313341, -0.08540743],\n",
              "       [ 0.18186761,  1.87669894,  0.09313341,  0.06987881],\n",
              "       [ 0.19918833, -1.42456879,  0.09313341,  0.14752193],\n",
              "       [ 0.21650906, -0.06100169,  0.13130284, -0.3183368 ],\n",
              "       [ 0.23382978, -1.42456879,  0.13130284, -0.16305055],\n",
              "       [ 0.25115051, -1.49633548,  0.16947227, -0.08540743],\n",
              "       [ 0.26847123, -1.42456879,  0.16947227, -0.00776431],\n",
              "       [ 0.28579196,  1.73316556,  0.16947227, -0.27951524],\n",
              "       [ 0.30311268,  0.7284319 ,  0.16947227,  0.34162973],\n",
              "       [ 0.3204334 ,  0.87196528,  0.24581112, -0.27951524],\n",
              "       [ 0.33775413,  0.80019859,  0.24581112,  0.26398661],\n",
              "       [ 0.35507485, -0.85043527,  0.24581112,  0.22516505],\n",
              "       [ 0.37239558, -0.06100169,  0.24581112, -0.39597992],\n",
              "       [ 0.3897163 ,  0.08253169,  0.32214998,  0.30280817],\n",
              "       [ 0.40703703,  0.010765  ,  0.32214998,  1.58391968],\n",
              "       [ 0.42435775, -1.13750203,  0.36031941, -0.82301709],\n",
              "       [ 0.44167848, -0.56336851,  0.36031941,  1.04041783],\n",
              "       [ 0.4589992 ,  0.29783176,  0.39848884, -0.59008772],\n",
              "       [ 0.47631993,  0.08253169,  0.39848884,  1.73920592],\n",
              "       [ 0.49364065,  1.4460988 ,  0.39848884, -1.52180518],\n",
              "       [ 0.51096138, -0.06100169,  0.39848884,  0.96277471],\n",
              "       [ 0.5282821 ,  0.58489852,  0.39848884, -1.5994483 ],\n",
              "       [ 0.54560282,  0.010765  ,  0.39848884,  0.96277471],\n",
              "       [ 0.56292355, -0.99396865,  0.43665827, -0.62890928],\n",
              "       [ 0.58024427, -0.56336851,  0.43665827,  0.80748846],\n",
              "       [ 0.597565  , -1.3528021 ,  0.4748277 , -1.75473454],\n",
              "       [ 0.61488572, -0.70690189,  0.4748277 ,  1.46745499],\n",
              "       [ 0.63220645,  0.36959845,  0.4748277 , -1.67709142],\n",
              "       [ 0.64952717, -0.49160182,  0.4748277 ,  0.88513158],\n",
              "       [ 0.6668479 , -1.42456879,  0.51299713, -1.56062674],\n",
              "       [ 0.68416862, -0.27630176,  0.51299713,  0.84631002],\n",
              "       [ 0.70148935,  1.30256542,  0.55116656, -1.75473454],\n",
              "       [ 0.71881007, -0.49160182,  0.55116656,  1.6615628 ],\n",
              "       [ 0.73613079, -0.77866858,  0.58933599, -0.39597992],\n",
              "       [ 0.75345152, -0.49160182,  0.58933599,  1.42863343],\n",
              "       [ 0.77077224, -0.99396865,  0.62750542, -1.48298362],\n",
              "       [ 0.78809297, -0.77866858,  0.62750542,  1.81684904],\n",
              "       [ 0.80541369,  0.65666521,  0.62750542, -0.55126616],\n",
              "       [ 0.82273442, -0.49160182,  0.62750542,  0.92395314],\n",
              "       [ 0.84005514, -0.34806844,  0.66567484, -1.09476801],\n",
              "       [ 0.85737587, -0.34806844,  0.66567484,  1.54509812],\n",
              "       [ 0.87469659,  0.29783176,  0.66567484, -1.28887582],\n",
              "       [ 0.89201732,  0.010765  ,  0.66567484,  1.46745499],\n",
              "       [ 0.90933804,  0.36959845,  0.66567484, -1.17241113],\n",
              "       [ 0.92665877, -0.06100169,  0.66567484,  1.00159627],\n",
              "       [ 0.94397949,  0.58489852,  0.66567484, -1.32769738],\n",
              "       [ 0.96130021, -0.85043527,  0.66567484,  1.50627656],\n",
              "       [ 0.97862094, -0.13276838,  0.66567484, -1.91002079],\n",
              "       [ 0.99594166, -0.6351352 ,  0.66567484,  1.07923939],\n",
              "       [ 1.01326239, -0.34806844,  0.66567484, -1.91002079],\n",
              "       [ 1.03058311, -0.6351352 ,  0.66567484,  0.88513158],\n",
              "       [ 1.04790384,  1.23079873,  0.70384427, -0.59008772],\n",
              "       [ 1.06522456, -0.70690189,  0.70384427,  1.27334719],\n",
              "       [ 1.08254529, -1.42456879,  0.78018313, -1.75473454],\n",
              "       [ 1.09986601, -0.56336851,  0.78018313,  1.6615628 ],\n",
              "       [ 1.11718674,  0.80019859,  0.93286085, -0.93948177],\n",
              "       [ 1.13450746, -0.20453507,  0.93286085,  0.96277471],\n",
              "       [ 1.15182818,  0.22606507,  0.97103028, -1.17241113],\n",
              "       [ 1.16914891, -0.41983513,  0.97103028,  1.73920592],\n",
              "       [ 1.18646963, -0.20453507,  1.00919971, -0.90066021],\n",
              "       [ 1.20379036, -0.49160182,  1.00919971,  0.49691598],\n",
              "       [ 1.22111108,  0.08253169,  1.00919971, -1.44416206],\n",
              "       [ 1.23843181, -0.77866858,  1.00919971,  0.96277471],\n",
              "       [ 1.25575253, -0.20453507,  1.00919971, -1.56062674],\n",
              "       [ 1.27307326, -0.20453507,  1.00919971,  1.62274124],\n",
              "       [ 1.29039398,  0.94373197,  1.04736914, -1.44416206],\n",
              "       [ 1.30771471, -0.6351352 ,  1.04736914,  1.38981187],\n",
              "       [ 1.32503543,  1.37433211,  1.04736914, -1.36651894],\n",
              "       [ 1.34235616, -0.85043527,  1.04736914,  0.72984534],\n",
              "       [ 1.35967688,  1.4460988 ,  1.23821628, -1.4053405 ],\n",
              "       [ 1.3769976 , -0.27630176,  1.23821628,  1.54509812],\n",
              "       [ 1.39431833, -0.13276838,  1.390894  , -0.7065524 ],\n",
              "       [ 1.41163905, -0.49160182,  1.390894  ,  1.38981187],\n",
              "       [ 1.42895978,  0.51313183,  1.42906343, -1.36651894],\n",
              "       [ 1.4462805 , -0.70690189,  1.42906343,  1.46745499],\n",
              "       [ 1.46360123,  0.15429838,  1.46723286, -0.43480148],\n",
              "       [ 1.48092195, -0.6351352 ,  1.46723286,  1.81684904],\n",
              "       [ 1.49824268,  1.08726535,  1.54357172, -1.01712489],\n",
              "       [ 1.5155634 , -0.77866858,  1.54357172,  0.69102378],\n",
              "       [ 1.53288413,  0.15429838,  1.61991057, -1.28887582],\n",
              "       [ 1.55020485, -0.20453507,  1.61991057,  1.35099031],\n",
              "       [ 1.56752558, -0.34806844,  1.61991057, -1.05594645],\n",
              "       [ 1.5848463 , -0.49160182,  1.61991057,  0.72984534],\n",
              "       [ 1.60216702, -0.41983513,  2.00160487, -1.63826986],\n",
              "       [ 1.61948775, -0.06100169,  2.00160487,  1.58391968],\n",
              "       [ 1.63680847,  0.58489852,  2.26879087, -1.32769738],\n",
              "       [ 1.6541292 , -0.27630176,  2.26879087,  1.11806095],\n",
              "       [ 1.67144992,  0.44136514,  2.49780745, -0.86183865],\n",
              "       [ 1.68877065, -0.49160182,  2.49780745,  0.92395314],\n",
              "       [ 1.70609137, -0.49160182,  2.91767117, -1.25005425],\n",
              "       [ 1.7234121 , -0.6351352 ,  2.91767117,  1.27334719]])"
            ]
          },
          "metadata": {},
          "execution_count": 26
        }
      ]
    },
    {
      "cell_type": "code",
      "source": [
        "new_dataset=pd.DataFrame(scaled_features,columns=dataset.columns[:-1])\n",
        "                                              \n"
      ],
      "metadata": {
        "id": "sPeeb4V58ZcA"
      },
      "execution_count": 27,
      "outputs": []
    },
    {
      "cell_type": "code",
      "source": [
        "from sklearn.model_selection import train_test_split\n",
        "X=new_dataset\n",
        "y=dataset['Gender']\n"
      ],
      "metadata": {
        "id": "iLCFuoTY8aAJ"
      },
      "execution_count": 29,
      "outputs": []
    },
    {
      "cell_type": "code",
      "source": [
        "X_train,X_test,y_train,y_test=train_test_split(X,y,test_size=0.3,random_state=42)"
      ],
      "metadata": {
        "id": "km_EncIa8ngo"
      },
      "execution_count": 31,
      "outputs": []
    },
    {
      "cell_type": "code",
      "source": [
        "from sklearn.neighbors import KNeighborsClassifier"
      ],
      "metadata": {
        "id": "Z7UDli4F8qxA"
      },
      "execution_count": 32,
      "outputs": []
    },
    {
      "cell_type": "code",
      "source": [
        "knn=KNeighborsClassifier(n_neighbors=1)"
      ],
      "metadata": {
        "id": "OlhxFvFt8rfg"
      },
      "execution_count": 33,
      "outputs": []
    },
    {
      "cell_type": "code",
      "source": [
        "knn.fit(X_train,y_train)"
      ],
      "metadata": {
        "colab": {
          "base_uri": "https://localhost:8080/"
        },
        "id": "Jak-NpED8tqI",
        "outputId": "ad81f960-e764-4087-bb3e-8f6db7f1d6a7"
      },
      "execution_count": 34,
      "outputs": [
        {
          "output_type": "execute_result",
          "data": {
            "text/plain": [
              "KNeighborsClassifier(n_neighbors=1)"
            ]
          },
          "metadata": {},
          "execution_count": 34
        }
      ]
    },
    {
      "cell_type": "code",
      "source": [
        "pred=knn.predict(X_test)"
      ],
      "metadata": {
        "id": "DxaMGaXW8vgI"
      },
      "execution_count": 35,
      "outputs": []
    },
    {
      "cell_type": "code",
      "source": [
        "from sklearn.metrics import classification_report,confusion_matrix"
      ],
      "metadata": {
        "id": "VlYPxabj8yto"
      },
      "execution_count": 36,
      "outputs": []
    },
    {
      "cell_type": "code",
      "source": [
        "print(confusion_matrix(y_test,pred))\n",
        "print(classification_report(y_test,pred))"
      ],
      "metadata": {
        "colab": {
          "base_uri": "https://localhost:8080/"
        },
        "id": "WMbU07HA8zjw",
        "outputId": "60ae6a13-0c09-4f28-e1d8-7c8c9a653000"
      },
      "execution_count": 37,
      "outputs": [
        {
          "output_type": "stream",
          "name": "stdout",
          "text": [
            "[[22 14]\n",
            " [13 11]]\n",
            "              precision    recall  f1-score   support\n",
            "\n",
            "      Female       0.63      0.61      0.62        36\n",
            "        Male       0.44      0.46      0.45        24\n",
            "\n",
            "    accuracy                           0.55        60\n",
            "   macro avg       0.53      0.53      0.53        60\n",
            "weighted avg       0.55      0.55      0.55        60\n",
            "\n"
          ]
        }
      ]
    },
    {
      "cell_type": "code",
      "source": [
        "#Analyzing better k value through iterations\n",
        "error_rate=[]\n",
        "\n",
        "for i in range(1,40):\n",
        "  knn=KNeighborsClassifier(n_neighbors=i)\n",
        "  knn.fit(X_train,y_train)\n",
        "  pred_i=knn.predict(X_test)\n",
        "  error_rate.append(np.mean(pred_i !=y_test))"
      ],
      "metadata": {
        "id": "OvU8rXY88zrY"
      },
      "execution_count": 38,
      "outputs": []
    },
    {
      "cell_type": "code",
      "source": [
        "plt.figure(figsize=(10,6))\n",
        "plt.plot(range(1,40),error_rate,color='blue',linestyle='dashed',\n",
        "         marker='s',markerfacecolor='orange',markersize=10)\n",
        "plt.title('Error rate vs K values')\n",
        "plt.xlabel('K')\n",
        "plt.ylabel('Error rate')"
      ],
      "metadata": {
        "colab": {
          "base_uri": "https://localhost:8080/",
          "height": 421
        },
        "id": "GnJuX9_V8zwg",
        "outputId": "8c0337da-3150-4c79-8d43-cfbfc832b2f8"
      },
      "execution_count": 39,
      "outputs": [
        {
          "output_type": "execute_result",
          "data": {
            "text/plain": [
              "Text(0, 0.5, 'Error rate')"
            ]
          },
          "metadata": {},
          "execution_count": 39
        },
        {
          "output_type": "display_data",
          "data": {
            "text/plain": [
              "<Figure size 720x432 with 1 Axes>"
            ],
            "image/png": "[encoded data removed]"
          },
          "metadata": {
            "needs_background": "light"
          }
        }
      ]
    },
    {
      "cell_type": "code",
      "source": [
        "knn=KNeighborsClassifier(n_neighbors=3)\n",
        "knn.fit(X_train,y_train)\n",
        "pred=knn.predict(X_test)\n",
        "print(confusion_matrix(y_test,pred))\n",
        "print(classification_report(y_test,pred))\n",
        "\n",
        "\n"
      ],
      "metadata": {
        "colab": {
          "base_uri": "https://localhost:8080/"
        },
        "id": "qiZiU-JW8zzo",
        "outputId": "e162b72b-ff4f-4cb5-edd5-c56a9c25c869"
      },
      "execution_count": 40,
      "outputs": [
        {
          "output_type": "stream",
          "name": "stdout",
          "text": [
            "[[20 16]\n",
            " [17  7]]\n",
            "              precision    recall  f1-score   support\n",
            "\n",
            "      Female       0.54      0.56      0.55        36\n",
            "        Male       0.30      0.29      0.30        24\n",
            "\n",
            "    accuracy                           0.45        60\n",
            "   macro avg       0.42      0.42      0.42        60\n",
            "weighted avg       0.45      0.45      0.45        60\n",
            "\n"
          ]
        }
      ]
    },
    {
      "cell_type": "code",
      "source": [],
      "metadata": {
        "id": "WVtGAm3f8z1a"
      },
      "execution_count": null,
      "outputs": []
    },
    {
      "cell_type": "markdown",
      "source": [],
      "metadata": {
        "id": "gGd7_Rp8tCW9"
      }
    }
  ]
}